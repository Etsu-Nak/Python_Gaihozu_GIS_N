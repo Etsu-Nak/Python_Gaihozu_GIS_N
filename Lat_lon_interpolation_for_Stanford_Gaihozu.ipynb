{
 "cells": [
  {
   "cell_type": "code",
   "execution_count": null,
   "metadata": {},
   "outputs": [],
   "source": [
    "import os\n",
    "import sympy as sp\n",
    "import csv\n",
    "import glob"
   ]
  },
  {
   "cell_type": "code",
   "execution_count": null,
   "metadata": {},
   "outputs": [],
   "source": [
    "files = glob.glob(\"E:/Japan/touhoku2aout/res1j/coodNI_53_21_*.csv\")\n",
    "for fp in files:\n",
    "        print(fp)\n",
    "#区画名（ここではNI_53_21）内の、判読に成功したファイル名を探す。なのでフォルダは、判読に成功したcoodファイルのフォルダを指定する"
   ]
  },
  {
   "cell_type": "code",
   "execution_count": null,
   "metadata": {},
   "outputs": [],
   "source": [
    "#ファイル名から、そのファイルが4×4の範囲内のどこにあるかを求める。\n",
    "def getnum(filepath):\n",
    "    basename_without_ext = os.path.splitext(os.path.basename(filepath))[0]\n",
    "    result =basename_without_ext[4:].split(\"_\")\n",
    "    bango = result[3]\n",
    "    k=int(bango)//4\n",
    "    m =int(bango)%4\n",
    "    return(k,m)"
   ]
  },
  {
   "cell_type": "code",
   "execution_count": null,
   "metadata": {},
   "outputs": [],
   "source": [
    "#判読成功したcoodファイルの左上の緯度経度から、場所1の左上の緯度経度を導き出す\n",
    "def Makebase(filepath,k,m):\n",
    "    with open(filepath,'r') as f:\n",
    "        reader = csv.reader(f)\n",
    "        l = [line for line in reader]\n",
    "        lat = l[0][2]\n",
    "        lon = l[0][3]\n",
    "#        print(lat,lon)\n",
    "#        print(k,m)\n",
    "#場所1の左上の緯度を導き出す\n",
    "        do_lat = int(lat[0:2])\n",
    "        fun_lat = int(lat[3:5])\n",
    "        \n",
    "        if (m==0):\n",
    "            m = 4\n",
    "        else:\n",
    "            m = m\n",
    "        f1 = fun_lat+((m-1)*10)\n",
    "        if (f1 >= 60):\n",
    "            fu1_lat = f1-60\n",
    "            do1_lat = do_lat+1\n",
    "        else:\n",
    "            fu1_lat = f1\n",
    "            do1_lat = do_lat\n",
    "    \n",
    "        f2 = f1-10\n",
    "        if (f2 >= 60):\n",
    "            fu2_lat = f2-60\n",
    "            do2_lat = do_lat+1\n",
    "        elif (f2 < 0):\n",
    "            fu2_lat = f2+60\n",
    "            do2_lat = do_lat-1\n",
    "        else:\n",
    "            fu2_lat = f2\n",
    "            do2_lat = do_lat\n",
    "        \n",
    "#    print(do_lat,fun_lat,do1,fu1)\n",
    "#1の位置の左上の経度を導き出す。 ただ、経度の\"分\"の値は、どの4×4範囲でも同じになる。\n",
    "        do_lon = int(lon[0:3])\n",
    "        fun_lon = int(lon[4:6])\n",
    "        fu1_lon =45\n",
    "        do1_lon = do_lon\n",
    "        fu2_lon = 0\n",
    "        do2_lon =do_lon+1\n",
    "        \n",
    "        return(do1_lat,fu1_lat,do2_lat,fu2_lat,do1_lon,fu1_lon,do2_lon,fu2_lon)"
   ]
  },
  {
   "cell_type": "code",
   "execution_count": null,
   "metadata": {},
   "outputs": [],
   "source": [
    "def namCx(filepath):\n",
    "    basename_without_ext = os.path.splitext(os.path.basename(filepath))[0]\n",
    "    result =basename_without_ext.split(\"_\")\n",
    "    namC = result[0]+'_'+result[1]+'_'+result[2]\n",
    "    return(namC)\n",
    "#filepathから必要な部分だけを拾い上げる。"
   ]
  },
  {
   "cell_type": "code",
   "execution_count": null,
   "metadata": {},
   "outputs": [],
   "source": [
    "#4×4範囲の中で、緯度経度の判読に失敗したcoodファイルの、緯度経度を推定する\n",
    "def makinglatlon2(file,filepath):\n",
    "    k,m = getnum(filepath)\n",
    "    kk,mm = getnum(file)\n",
    "    lat1d,lat1f,lat2d,lat2f,lon1d,lon1f,lon2d,lon2f = Makebase(filepath,k,m)\n",
    "    \n",
    "    if (mm==0):\n",
    "        mk=4\n",
    "    else:\n",
    "        mk=mm\n",
    "        \n",
    "    fu1 = lat1f-(mk-1)*10\n",
    "    if (fu1< 0):\n",
    "        fu_lat1 = fu1+60\n",
    "        do_lat1 = lat1d-1\n",
    "    else:\n",
    "        fu_lat1 = fu1\n",
    "        do_lat1 = lat1d\n",
    "    \n",
    "    fu2 = lat2f-(mk-1)*10\n",
    "    if(fu2 < 0):\n",
    "        fu_lat2 = fu2+60\n",
    "        do_lat2 = lat2d-1\n",
    "    else:\n",
    "        fu_lat2 = fu2\n",
    "        do_lat2 = lat2d\n",
    "\n",
    "    if (mm==0):\n",
    "        fu_lon1 = lon1f-(kk-1)*15\n",
    "        do_lon1 = lon1d\n",
    "    else:\n",
    "        fu_lon1 = lon1f-kk*15\n",
    "        do_lon1 = lon1d\n",
    "\n",
    "    fu2 = fu_lon1+15\n",
    "    if (fu2 ==60):\n",
    "        fu_lon2 = 0\n",
    "        do_lon2 = lon2d\n",
    "    else:\n",
    "        fu_lon2 = fu2\n",
    "        do_lon2 = lon2d - 1\n",
    "        \n",
    "    return(do_lat1,fu_lat1,do_lat2,fu_lat2,do_lon1,fu_lon1,do_lon2,fu_lon2)"
   ]
  },
  {
   "cell_type": "code",
   "execution_count": null,
   "metadata": {
    "scrolled": true
   },
   "outputs": [],
   "source": [
    "#判読成功したcoodファイル名を指定する\n",
    "filepath = 'E:/Japan/Hokkaido2/West/res3W_ad_hand/coodNL_54_18_10.csv'\n",
    "\n",
    "#共通の4×4区画の中で判読失敗したcoodファイルが入っているfolder名を指定する\n",
    "folder_path = \"E:/Japan/Hokkaido2/West/res2W_adj/\"\n",
    "#緯度経度を書き込んだcoodファイルを入れるfolderを指定する\n",
    "folder_path2 = \"E:/Japan/Hokkaido2/West/res3W_adj/\"\n",
    "namC = namCx(filepath)"
   ]
  },
  {
   "cell_type": "code",
   "execution_count": null,
   "metadata": {
    "scrolled": false
   },
   "outputs": [],
   "source": [
    "#推定した緯度経度の値を、形式を整えてcoodファイルに書き込む。\n",
    "matching_files = [file for file in os.listdir(folder_path) if file.startswith(namC) and file.endswith(\".csv\")]\n",
    "for file in matching_files:\n",
    "    da1,fa1,da2,fa2,do1,fo1,do2,fo2 = makinglatlon2(file,filepath)\n",
    "    cood = os.path.join(folder_path,file)\n",
    "    cood2 = os.path.join(folder_path2,file)\n",
    "    with open(cood,'r') as fa:\n",
    "        print(file)\n",
    "        reader = csv.reader(fa)\n",
    "        le = [line for line in reader]\n",
    "        x1=le[0][0]\n",
    "        y1=le[0][1]\n",
    "        x2=le[1][0]\n",
    "        y2=le[1][1]\n",
    "        x3=le[2][0]\n",
    "        y3=le[2][1]\n",
    "        x4=le[3][0]\n",
    "        y4=le[3][1]\n",
    "        lat1 = str(da1)+'°'+str(fa1)+'′' \n",
    "        lon1 = str(do1)+'°'+str(fo1)+'′'+'10.4″' \n",
    "        lat2 = str(da2)+'°'+str(fa2)+'′' \n",
    "        lon2 = str(do1)+'°'+str(fo1)+'′'+'10.4″'       \n",
    "        lat3 = str(da1)+'°'+str(fa1)+'′' \n",
    "        lon3 = str(do2)+'°'+str(fo2)+'′'+'10.4″' \n",
    "        lat4 = str(da2)+'°'+str(fa2)+'′' \n",
    "        lon4 = str(do2)+'°'+str(fo2)+'′'+'10.4″' \n",
    "        data = [[x1,y1,lat1,lon1],[x2,y2,lat2,lon2],[x3,y3,lat3,lon3],[x4,y4,lat4,lon4]]\n",
    "        with open(cood2, \"w\") as fil:\n",
    "            for line in data:\n",
    "                for i, cell in enumerate(line):\n",
    "                    fil.write(cell)\n",
    "                    if i < len(line) - 1:\n",
    "                        fil.write(\",\")\n",
    "                fil.write(\"\\n\")"
   ]
  }
 ],
 "metadata": {
  "kernelspec": {
   "display_name": "Python 3 (ipykernel)",
   "language": "python",
   "name": "python3"
  },
  "language_info": {
   "codemirror_mode": {
    "name": "ipython",
    "version": 3
   },
   "file_extension": ".py",
   "mimetype": "text/x-python",
   "name": "python",
   "nbconvert_exporter": "python",
   "pygments_lexer": "ipython3",
   "version": "3.11.5"
  }
 },
 "nbformat": 4,
 "nbformat_minor": 2
}

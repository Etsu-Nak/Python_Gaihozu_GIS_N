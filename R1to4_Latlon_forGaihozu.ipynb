{
 "cells": [
  {
   "cell_type": "code",
   "execution_count": null,
   "metadata": {
    "id": "qN6p_s3OVgZU"
   },
   "outputs": [],
   "source": [
    "from google.colab import drive\n",
    "drive.mount('/content/drive')"
   ]
  },
  {
   "cell_type": "code",
   "execution_count": null,
   "metadata": {
    "id": "qVDoS7um8J2h"
   },
   "outputs": [],
   "source": [
    "%%capture\n",
    "!pip install rasterio"
   ]
  },
  {
   "cell_type": "code",
   "execution_count": null,
   "metadata": {
    "id": "zoGDS--mjgeh"
   },
   "outputs": [],
   "source": [
    "import rasterio\n",
    "import numpy as np\n",
    "from PIL import Image\n",
    "from rasterio.control import GroundControlPoint\n",
    "from rasterio.transform import from_gcps\n",
    "from rasterio.transform import from_gcps\n",
    "from osgeo import gdal\n",
    "from osgeo import osr\n",
    "import glob\n",
    "import matplotlib.pyplot as plt\n",
    "import pandas as pd\n",
    "import os\n",
    "import re"
   ]
  },
  {
   "cell_type": "code",
   "execution_count": null,
   "metadata": {
    "id": "MM5jnGN8CRSW"
   },
   "outputs": [],
   "source": [
    "#緯度経度情報の10進数への変換\n",
    "def convert_to_decimal(coord):\n",
    "  deg=coord.split('°')[0]\n",
    "  minute=coord.split('′')[0].split('°')[1]\n",
    "  second=coord.split('′')[1].replace('″','')\n",
    "  if len(second)>0:\n",
    "    pass\n",
    "  else:\n",
    "    second=0\n",
    "  coord_decimal=float(deg)+float(minute)/60+float(second)/3600\n",
    "\n",
    "  return coord_decimal\n"
   ]
  },
  {
   "cell_type": "code",
   "execution_count": null,
   "metadata": {
    "id": "r04CmC9sCU3n"
   },
   "outputs": [],
   "source": [
    "#四隅に緯度経度を付与する\n",
    "folder_path = \"/content/drive/MyDrive/NorthKorea/\"  # フォルダのパスを指定\n",
    "jpg_pattern = r\"res_(\\w+)\\.jpg\"\n",
    "csv_pattern = r\"cood(\\w+)\\.csv\"\n",
    "\n",
    "jpg_files = {}\n",
    "csv_files = {}\n",
    "\n",
    "# jpgファイルを探して辞書に追加\n",
    "for filename in os.listdir(folder_path):\n",
    "    jpg_match = re.match(jpg_pattern, filename)\n",
    "    if jpg_match:\n",
    "        key = jpg_match.group(1)\n",
    "        jpg_files[key] = filename\n",
    "#        print(filename)\n",
    "\n",
    "# csvファイルを探して辞書に追加\n",
    "for filename in os.listdir(folder_path):\n",
    "    csv_match = re.match(csv_pattern, filename)\n",
    "    if csv_match:\n",
    "        key = csv_match.group(1)\n",
    "        csv_files[key] = filename\n",
    "\n",
    "# 共通のキーを持つファイルを組み合わせて処理\n",
    "for key in jpg_files.keys():\n",
    "    if key in csv_files:\n",
    "        jpg_filename = jpg_files[key]\n",
    "        csv_filename = csv_files[key]\n",
    "\n",
    "        tif_filename = f\"{key}_geo.tif\"\n",
    "\n",
    "        map_image=np.array(Image.open(os.path.join(folder_path,jpg_filename)))\n",
    "        coords = pd.read_csv(os.path.join(folder_path, csv_filename),encoding = 'shift-jis',header=None)\n",
    "        coords = coords.rename(columns={0:'col',1:'row',2:'lat',3:'lon'})\n",
    "\n",
    "        coords['lat_decimal']=coords['lat'].map(convert_to_decimal)\n",
    "        coords['lon_decimal']=coords['lon'].map(convert_to_decimal)\n",
    "        ground_control_points = [GroundControlPoint(float(coords.loc[i]['row']),float(coords.loc[i]['col']),coords.loc[i]['lon_decimal'],coords.loc[i]['lat_decimal']) for i in range(len(coords))]\n",
    "\n",
    "        out_path=os.path.join(folder_path,tif_filename)\n",
    "        with rasterio.open(out_path,\n",
    "                           'w',\n",
    "                           gcps=ground_control_points,\n",
    "                           height=map_image.shape[0],\n",
    "                           width=map_image.shape[1],\n",
    "                           count=3,\n",
    "                           dtype=map_image.dtype,\n",
    "                           driver='GTiff',\n",
    "                           crs='EPSG:4301') as dst:\n",
    "                           for i in range(3):\n",
    "                            dst.write(map_image[:,:,i],i+1)\n",
    "    else:\n",
    "        pass\n"
   ]
  },
  {
   "cell_type": "code",
   "execution_count": null,
   "metadata": {
    "id": "kX38ziANAXt5"
   },
   "outputs": [],
   "source": [
    "#gdal.Warpによる座標系の確定。一旦EPSG=4301に確定する\n",
    "# 入力のTIFFファイルが格納されたフォルダ\n",
    "input_folder = '/content/drive/MyDrive/NorthKorea/'\n",
    "\n",
    "# 出力フォルダ\n",
    "output_folder = '/content/drive/MyDrive/NorthKorea/'\n",
    "\n",
    "\n",
    "# TIFFファイルのリストを取得\n",
    "tif_files = glob.glob(os.path.join(input_folder, '*_geo.tif'))\n",
    "\n",
    "\n",
    "for input_geotiff in tif_files:\n",
    "      base_name = os.path.basename(input_geotiff)\n",
    "      name, extension = os.path.splitext(base_name)\n",
    "\n",
    "    # 新しいファイル名を生成\n",
    "      output_geo = name + '_S.tif'\n",
    "      output_geotiff = os.path.join(output_folder, output_geo)\n",
    "\n",
    "#      print(output_geotiff)\n",
    "      ds = gdal.Open(input_geotiff)\n",
    "      gdal.Warp(output_geotiff, ds,srcSRS=\"EPSG:4301\",dstSRS=\"EPSG:4301\")"
   ]
  },
  {
   "cell_type": "code",
   "execution_count": null,
   "metadata": {
    "id": "TrnV2NR_QnIL"
   },
   "outputs": [],
   "source": [
    "#jpg画像に対応するcoodファイルから緯度経度の値を読み出し、その値を使用して画像の地図範囲を切り取る\n",
    "folder_path = '/content/drive/MyDrive/NorthKorea/'# フォルダのパスを指定\n",
    "csv_pattern = r\"cood(\\w+)\\.csv\"\n",
    "tif_pattern = r\"(\\w+)_geo_S\\.tif$\"\n",
    "\n",
    "tif_files = {}\n",
    "csv_files = {}\n",
    "\n",
    "# tifファイルを探して辞書に追加\n",
    "for filename in os.listdir(folder_path):\n",
    "    tif_match = re.match(tif_pattern, filename)\n",
    "    if tif_match:\n",
    "        key = tif_match.group(1)\n",
    "        tif_files[key] = filename\n",
    "#        print(filename)\n",
    "\n",
    "# csvファイルを探して辞書に追加\n",
    "for filename in os.listdir(folder_path):\n",
    "    csv_match = re.match(csv_pattern, filename)\n",
    "    if csv_match:\n",
    "        key = csv_match.group(1)\n",
    "        csv_files[key] = filename\n",
    "\n",
    "# 共通のキーを持つファイルを組み合わせて処理\n",
    "for key in tif_files.keys():\n",
    "    if key in csv_files:\n",
    "        tif_filename = tif_files[key]\n",
    "        csv_filename = csv_files[key]\n",
    "\n",
    "#        map_image=np.array(Image.open(os.path.join(folder_path,tif_filename)))\n",
    "        coords = pd.read_csv(os.path.join(folder_path, csv_filename),encoding = 'shift-jis',header=None)\n",
    "        coords = coords.rename(columns={0:'col',1:'row',2:'lat',3:'lon'})\n",
    "\n",
    "        coords['lat_decimal']=coords['lat'].map(convert_to_decimal)\n",
    "        coords['lon_decimal']=coords['lon'].map(convert_to_decimal)\n",
    "#        ground_control_points = [GroundControlPoint(float(coords.loc[i]['row']),float(coords.loc[i]['col']),coords.loc[i]['lon_decimal'],coords.loc[i]['lat_decimal']) for i in range(len(coords))]\n",
    "\n",
    "        minlat = min(coords['lat_decimal'])\n",
    "        maxlat = max(coords['lat_decimal'])\n",
    "        minlon = min(coords['lon_decimal'])\n",
    "        maxlon = max(coords['lon_decimal'])\n",
    "#        print(minlat,maxlat,minlon,maxlon)\n",
    "\n",
    "        input_geotiff =os.path.join(folder_path,tif_filename)\n",
    "        base_name = os.path.basename(input_geotiff)\n",
    "        name, extension = os.path.splitext(base_name)\n",
    "\n",
    "    # 新しいファイル名を生成\n",
    "        output_geo = name + '_C.tif'\n",
    "        output_geotiff = os.path.join(folder_path, output_geo)\n",
    "        ds = gdal.Open(input_geotiff)\n",
    "        ds1 = gdal.Translate(output_geotiff,ds,projWin=[minlon, maxlat, maxlon, minlat])\n",
    "        ds1 =None\n"
   ]
  },
  {
   "cell_type": "code",
   "execution_count": null,
   "metadata": {
    "id": "xv8ygAblRSiV"
   },
   "outputs": [],
   "source": [
    "#EPSGを4301から4326に変換する\n",
    "# 入力のTIFFファイルが格納されたフォルダ\n",
    "folder_path = '/content/drive/MyDrive/NorthKorea/'\n",
    "\n",
    "# フォルダ内のファイル一覧を取得\n",
    "tif_files = glob.glob(os.path.join(folder_path, '*_geo_S_C.tif'))\n",
    "\n",
    "for input_geotiff in tif_files:\n",
    "    base_name = os.path.basename(input_geotiff)\n",
    "#    name, extension = os.path.splitext(base_name)\n",
    "\n",
    "    # 新しいファイル名を生成\n",
    "    output_geo = base_name.replace('_geo_S_C.tif', '_geo_S_C_R.tif')\n",
    "    output_geotiff = os.path.join(folder_path, output_geo)\n",
    "    print(output_geotiff)\n",
    "\n",
    "    ds = gdal.Open(input_geotiff)\n",
    "    gdal.Warp(output_geotiff, ds, srcSRS=\"EPSG:4301\", dstSRS=\"EPSG:4326\")"
   ]
  }
 ],
 "metadata": {
  "colab": {
   "authorship_tag": "ABX9TyOVUzXVKZZei1ph5He9/kQW",
   "mount_file_id": "1B4Xcb_eySCM02EJdqbUdaRD1tkEitA_g",
   "provenance": [
    {
     "file_id": "1B4Xcb_eySCM02EJdqbUdaRD1tkEitA_g",
     "timestamp": 1702858103007
    },
    {
     "file_id": "12C136JOLRQJkfr_FU6DgAk4RTfjfBd65",
     "timestamp": 1693212215161
    },
    {
     "file_id": "1noottD2D2Ff27EfOrPgbPyRs2d7fyBor",
     "timestamp": 1692945069563
    }
   ]
  },
  "kernelspec": {
   "display_name": "Python 3 (ipykernel)",
   "language": "python",
   "name": "python3"
  },
  "language_info": {
   "codemirror_mode": {
    "name": "ipython",
    "version": 3
   },
   "file_extension": ".py",
   "mimetype": "text/x-python",
   "name": "python",
   "nbconvert_exporter": "python",
   "pygments_lexer": "ipython3",
   "version": "3.11.5"
  }
 },
 "nbformat": 4,
 "nbformat_minor": 1
}

{
 "cells": [
  {
   "cell_type": "code",
   "execution_count": null,
   "metadata": {
    "colab": {
     "base_uri": "https://localhost:8080/"
    },
    "executionInfo": {
     "elapsed": 24310,
     "status": "ok",
     "timestamp": 1717564091648,
     "user": {
      "displayName": "uiisnakazono u",
      "userId": "03484528813193376180"
     },
     "user_tz": -540
    },
    "id": "j9hcr8kX8YE5",
    "outputId": "424e1b3c-ca4e-471c-e2bf-fe31c4fc3d41"
   },
   "outputs": [],
   "source": [
    "from google.colab import drive\n",
    "drive.mount('/content/drive')"
   ]
  },
  {
   "cell_type": "code",
   "execution_count": null,
   "metadata": {
    "executionInfo": {
     "elapsed": 10986,
     "status": "ok",
     "timestamp": 1717564149453,
     "user": {
      "displayName": "uiisnakazono u",
      "userId": "03484528813193376180"
     },
     "user_tz": -540
    },
    "id": "6o9WNeRBI8sb"
   },
   "outputs": [],
   "source": [
    "%%capture\n",
    "!pip install rasterio"
   ]
  },
  {
   "cell_type": "code",
   "execution_count": null,
   "metadata": {
    "executionInfo": {
     "elapsed": 9,
     "status": "ok",
     "timestamp": 1717564149453,
     "user": {
      "displayName": "uiisnakazono u",
      "userId": "03484528813193376180"
     },
     "user_tz": -540
    },
    "id": "QiwsdclOuB4R"
   },
   "outputs": [],
   "source": [
    "import rasterio\n",
    "from rasterio.merge import merge\n",
    "from rasterio.plot import show\n",
    "import glob\n",
    "import os"
   ]
  },
  {
   "cell_type": "code",
   "execution_count": null,
   "metadata": {
    "colab": {
     "base_uri": "https://localhost:8080/"
    },
    "executionInfo": {
     "elapsed": 15878,
     "status": "ok",
     "timestamp": 1717564165324,
     "user": {
      "displayName": "uiisnakazono u",
      "userId": "03484528813193376180"
     },
     "user_tz": -540
    },
    "id": "CQx3EsuU8GfP",
    "outputId": "ffc95973-8377-480a-f4e7-fd70ac0a4739"
   },
   "outputs": [],
   "source": [
    "folder_path = '/content/drive/MyDrive/NorthKorea/'\n",
    "# TIFFファイルのリストを取得\n",
    "#GoogleColabを使用している使用者のドライブ内のフォルダの中の、以下の条件に合うファイルだけを対象にする。\n",
    "tif_files = glob.glob(os.path.join(folder_path, '*_R.tif'))\n",
    "\n",
    "src_files_to_mosaic = []\n",
    "\n",
    "for fp in tif_files:\n",
    "      src = rasterio.open(fp)\n",
    "      src_files_to_mosaic.append(src)\n",
    "\n",
    "src_files_to_mosaic"
   ]
  },
  {
   "cell_type": "code",
   "execution_count": null,
   "metadata": {
    "executionInfo": {
     "elapsed": 23367,
     "status": "ok",
     "timestamp": 1717564499035,
     "user": {
      "displayName": "uiisnakazono u",
      "userId": "03484528813193376180"
     },
     "user_tz": -540
    },
    "id": "__HB_592KTuh"
   },
   "outputs": [],
   "source": [
    "mosaic, out_trans = merge(src_files_to_mosaic)"
   ]
  },
  {
   "cell_type": "code",
   "execution_count": null,
   "metadata": {
    "executionInfo": {
     "elapsed": 20,
     "status": "ok",
     "timestamp": 1717564499036,
     "user": {
      "displayName": "uiisnakazono u",
      "userId": "03484528813193376180"
     },
     "user_tz": -540
    },
    "id": "88wy1B_BK4ap"
   },
   "outputs": [],
   "source": [
    "out_meta = src.meta.copy()"
   ]
  },
  {
   "cell_type": "code",
   "execution_count": null,
   "metadata": {
    "executionInfo": {
     "elapsed": 18,
     "status": "ok",
     "timestamp": 1717564499036,
     "user": {
      "displayName": "uiisnakazono u",
      "userId": "03484528813193376180"
     },
     "user_tz": -540
    },
    "id": "sfsU_-lBLJ4w"
   },
   "outputs": [],
   "source": [
    " out_meta.update({\"driver\": \"GTiff\",\n",
    "                  \"height\": mosaic.shape[1],\n",
    "                  \"width\": mosaic.shape[2],\n",
    "                  \"transform\": out_trans,\n",
    "                  \"crs\": \"+proj=longlat +ellps=WGS84 +datum=WGS84 +no_defs \"\n",
    "                  }\n",
    "                 )"
   ]
  },
  {
   "cell_type": "code",
   "execution_count": null,
   "metadata": {
    "executionInfo": {
     "elapsed": 32897,
     "status": "ok",
     "timestamp": 1717564627181,
     "user": {
      "displayName": "uiisnakazono u",
      "userId": "03484528813193376180"
     },
     "user_tz": -540
    },
    "id": "c0R8a22PMKrh"
   },
   "outputs": [],
   "source": [
    "#モザイクの結果作成するファイル名を、絶対ルート合わせて書く\n",
    "out_fp = '/content/drive/MyDrive/NorthKorea/mosaic_AAYAZ.tif'\n",
    "\n",
    "with rasterio.open(out_fp, \"w\", **out_meta) as dest:\n",
    "     dest.write(mosaic)\n"
   ]
  },
  {
   "cell_type": "markdown",
   "metadata": {
    "id": "Vc6N2EIoLBRB"
   },
   "source": []
  }
 ],
 "metadata": {
  "colab": {
   "authorship_tag": "ABX9TyPZxCaJVDQaN0ftU7zKkAqG",
   "provenance": []
  },
  "kernelspec": {
   "display_name": "Python 3 (ipykernel)",
   "language": "python",
   "name": "python3"
  },
  "language_info": {
   "codemirror_mode": {
    "name": "ipython",
    "version": 3
   },
   "file_extension": ".py",
   "mimetype": "text/x-python",
   "name": "python",
   "nbconvert_exporter": "python",
   "pygments_lexer": "ipython3",
   "version": "3.11.5"
  }
 },
 "nbformat": 4,
 "nbformat_minor": 1
}
